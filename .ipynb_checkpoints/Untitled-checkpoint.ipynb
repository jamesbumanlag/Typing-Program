{
 "cells": [
  {
   "cell_type": "markdown",
   "id": "ff4b11c2",
   "metadata": {},
   "source": [
    "Simple Typing Game in Python - to help us speedup in typing"
   ]
  },
  {
   "cell_type": "markdown",
   "id": "50ed1de8",
   "metadata": {},
   "source": [
    "Create a program that displays a word used in Python and allow user to type the word with time limitation"
   ]
  },
  {
   "cell_type": "markdown",
   "id": "a607a2c8",
   "metadata": {},
   "source": [
    "Words to be used - len, print, max, min, sum, list, dict, str, int, float, def"
   ]
  },
  {
   "cell_type": "markdown",
   "id": "3a1b29b1",
   "metadata": {},
   "source": [
    "Import libraries, time and random\n",
    "Define functions\n",
    "while loop \n",
    "if, elif and else statement\n",
    "use break"
   ]
  },
  {
   "cell_type": "code",
   "execution_count": null,
   "id": "a6f3e1fc",
   "metadata": {},
   "outputs": [],
   "source": [
    "import random\n",
    "import time\n",
    "\n",
    "\n",
    "def ran_word(py_word_list):\n",
    "    random_word = random.choice(py_word_list)\n",
    "    return random_word\n",
    "\n",
    "def display_word():\n",
    "    word = ran_word(py_words_list)\n",
    "    user_word = input(f'Type the word: {word} \\n>> ')\n",
    "    return user_word\n",
    "    \n",
    "def validate_input()\n",
    "    pass\n",
    "\n",
    " \n",
    "\n",
    "py_words_list = ('len','print','max','min','sum','list','dict','str','int','float','def')\n",
    "\n",
    "display_word()\n",
    "\n",
    "print(f'user_word is {user_word}')\n"
   ]
  },
  {
   "cell_type": "code",
   "execution_count": null,
   "id": "ed1bb9c8",
   "metadata": {},
   "outputs": [],
   "source": []
  }
 ],
 "metadata": {
  "kernelspec": {
   "display_name": "Python 3 (ipykernel)",
   "language": "python",
   "name": "python3"
  },
  "language_info": {
   "codemirror_mode": {
    "name": "ipython",
    "version": 3
   },
   "file_extension": ".py",
   "mimetype": "text/x-python",
   "name": "python",
   "nbconvert_exporter": "python",
   "pygments_lexer": "ipython3",
   "version": "3.11.5"
  }
 },
 "nbformat": 4,
 "nbformat_minor": 5
}
